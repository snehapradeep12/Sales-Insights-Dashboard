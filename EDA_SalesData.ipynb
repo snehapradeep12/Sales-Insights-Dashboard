{
 "cells": [
  {
   "cell_type": "code",
   "execution_count": 1,
   "id": "37482e55",
   "metadata": {},
   "outputs": [],
   "source": [
    "# Importing the libraries\n",
    "import pymysql\n",
    "import pandas as pd"
   ]
  },
  {
   "cell_type": "code",
   "execution_count": 2,
   "id": "ab857d25",
   "metadata": {},
   "outputs": [],
   "source": [
    "# Database Credentials\n",
    "db_name = \"sales\"\n",
    "db_host = \"localhost\" # default\n",
    "db_username = \"root\"   # default\n",
    "db_password = \"password\""
   ]
  },
  {
   "cell_type": "code",
   "execution_count": 3,
   "id": "f41f7563",
   "metadata": {},
   "outputs": [],
   "source": [
    "# Establish the connection\n",
    "try:\n",
    "    conn = pymysql.connect(host= db_host,\n",
    "                           port= int(3306),\n",
    "                           user = 'root',\n",
    "                           passwd=db_password,\n",
    "                           db=db_name)\n",
    "    \n",
    "except e:\n",
    "    print(e)"
   ]
  },
  {
   "cell_type": "code",
   "execution_count": 4,
   "id": "5b89dec8",
   "metadata": {},
   "outputs": [
    {
     "name": "stdout",
     "output_type": "stream",
     "text": [
      " Successfully connected\n"
     ]
    }
   ],
   "source": [
    "# Test the connection to the database\n",
    "if conn:\n",
    "    print(\" Successfully connected\")\n",
    "else:\n",
    "    print(\"Error\")"
   ]
  },
  {
   "cell_type": "markdown",
   "id": "12e66a26",
   "metadata": {},
   "source": [
    "#### 1. How many customers does the company have?"
   ]
  },
  {
   "cell_type": "code",
   "execution_count": 43,
   "id": "63153749",
   "metadata": {
    "scrolled": true
   },
   "outputs": [
    {
     "name": "stderr",
     "output_type": "stream",
     "text": [
      "C:\\Users\\LENOVO\\anaconda3\\lib\\site-packages\\pandas\\io\\sql.py:761: UserWarning: pandas only support SQLAlchemy connectable(engine/connection) ordatabase string URI or sqlite3 DBAPI2 connectionother DBAPI2 objects are not tested, please consider using SQLAlchemy\n",
      "  warnings.warn(\n"
     ]
    }
   ],
   "source": [
    "df1 = pd.read_sql_query(\"SELECT DISTINCT COUNT(customer_code) AS TotalNumberofCustomers FROM sales.customers\", conn)"
   ]
  },
  {
   "cell_type": "code",
   "execution_count": 44,
   "id": "042b8a92",
   "metadata": {},
   "outputs": [
    {
     "data": {
      "text/html": [
       "<div>\n",
       "<style scoped>\n",
       "    .dataframe tbody tr th:only-of-type {\n",
       "        vertical-align: middle;\n",
       "    }\n",
       "\n",
       "    .dataframe tbody tr th {\n",
       "        vertical-align: top;\n",
       "    }\n",
       "\n",
       "    .dataframe thead th {\n",
       "        text-align: right;\n",
       "    }\n",
       "</style>\n",
       "<table border=\"1\" class=\"dataframe\">\n",
       "  <thead>\n",
       "    <tr style=\"text-align: right;\">\n",
       "      <th></th>\n",
       "      <th>TotalNumberofCustomers</th>\n",
       "    </tr>\n",
       "  </thead>\n",
       "  <tbody>\n",
       "    <tr>\n",
       "      <th>0</th>\n",
       "      <td>38</td>\n",
       "    </tr>\n",
       "  </tbody>\n",
       "</table>\n",
       "</div>"
      ],
      "text/plain": [
       "   TotalNumberofCustomers\n",
       "0                      38"
      ]
     },
     "execution_count": 44,
     "metadata": {},
     "output_type": "execute_result"
    }
   ],
   "source": [
    "df1"
   ]
  },
  {
   "cell_type": "markdown",
   "id": "e5939a6c",
   "metadata": {},
   "source": [
    "There are total 38 customers across different regions for this company"
   ]
  },
  {
   "cell_type": "markdown",
   "id": "91a378d7",
   "metadata": {},
   "source": [
    "#### 2. What is the distribution type of the customers and their respective revenue generated?"
   ]
  },
  {
   "cell_type": "code",
   "execution_count": 55,
   "id": "c63b6a29",
   "metadata": {},
   "outputs": [],
   "source": [
    "query1 = \"\"\"\n",
    "\n",
    "SELECT customer_type , SUM(sales_amount) AS total_revenue\n",
    "FROM sales.transactions as t\n",
    "LEFT JOIN sales.customers as c\n",
    "ON t.customer_code = c.customer_code\n",
    "GROUP BY customer_type\n",
    "       \n",
    "       \n",
    "       \"\"\""
   ]
  },
  {
   "cell_type": "code",
   "execution_count": 56,
   "id": "21ae606d",
   "metadata": {},
   "outputs": [
    {
     "name": "stderr",
     "output_type": "stream",
     "text": [
      "C:\\Users\\LENOVO\\anaconda3\\lib\\site-packages\\pandas\\io\\sql.py:761: UserWarning: pandas only support SQLAlchemy connectable(engine/connection) ordatabase string URI or sqlite3 DBAPI2 connectionother DBAPI2 objects are not tested, please consider using SQLAlchemy\n",
      "  warnings.warn(\n"
     ]
    }
   ],
   "source": [
    "df2 = pd.read_sql_query(query1, conn)"
   ]
  },
  {
   "cell_type": "code",
   "execution_count": 57,
   "id": "9d783bca",
   "metadata": {},
   "outputs": [
    {
     "data": {
      "text/html": [
       "<div>\n",
       "<style scoped>\n",
       "    .dataframe tbody tr th:only-of-type {\n",
       "        vertical-align: middle;\n",
       "    }\n",
       "\n",
       "    .dataframe tbody tr th {\n",
       "        vertical-align: top;\n",
       "    }\n",
       "\n",
       "    .dataframe thead th {\n",
       "        text-align: right;\n",
       "    }\n",
       "</style>\n",
       "<table border=\"1\" class=\"dataframe\">\n",
       "  <thead>\n",
       "    <tr style=\"text-align: right;\">\n",
       "      <th></th>\n",
       "      <th>customer_type</th>\n",
       "      <th>total_revenue</th>\n",
       "    </tr>\n",
       "  </thead>\n",
       "  <tbody>\n",
       "    <tr>\n",
       "      <th>0</th>\n",
       "      <td>Brick &amp; Mortar</td>\n",
       "      <td>746198243.0</td>\n",
       "    </tr>\n",
       "    <tr>\n",
       "      <th>1</th>\n",
       "      <td>E-Commerce</td>\n",
       "      <td>240367523.0</td>\n",
       "    </tr>\n",
       "  </tbody>\n",
       "</table>\n",
       "</div>"
      ],
      "text/plain": [
       "    customer_type  total_revenue\n",
       "0  Brick & Mortar    746198243.0\n",
       "1      E-Commerce    240367523.0"
      ]
     },
     "execution_count": 57,
     "metadata": {},
     "output_type": "execute_result"
    }
   ],
   "source": [
    "df2"
   ]
  },
  {
   "cell_type": "markdown",
   "id": "4e25842a",
   "metadata": {},
   "source": [
    "Customer who own a Brick and Mortar have purchased more products from the company indicating that offline sales channels have been more profitable for the company than the online sales through e-commerce webistes."
   ]
  },
  {
   "cell_type": "markdown",
   "id": "70e77336",
   "metadata": {},
   "source": [
    "#### 3. What is the sales revenue trend of the Company?"
   ]
  },
  {
   "cell_type": "code",
   "execution_count": 58,
   "id": "2d5a6828",
   "metadata": {},
   "outputs": [],
   "source": [
    "query2 = \"\"\"\n",
    "\n",
    "SELECT d.year, SUM(sales_amount) AS total_revenue\n",
    "FROM sales.transactions as t\n",
    "INNER JOIN sales.date as d\n",
    "ON t.order_date = d.date\n",
    "GROUP BY d.year\n",
    "       \n",
    "       \n",
    "\"\"\""
   ]
  },
  {
   "cell_type": "code",
   "execution_count": 59,
   "id": "dacf5069",
   "metadata": {
    "scrolled": true
   },
   "outputs": [
    {
     "name": "stderr",
     "output_type": "stream",
     "text": [
      "C:\\Users\\LENOVO\\anaconda3\\lib\\site-packages\\pandas\\io\\sql.py:761: UserWarning: pandas only support SQLAlchemy connectable(engine/connection) ordatabase string URI or sqlite3 DBAPI2 connectionother DBAPI2 objects are not tested, please consider using SQLAlchemy\n",
      "  warnings.warn(\n"
     ]
    }
   ],
   "source": [
    "df3 = pd.read_sql_query(query2, conn)"
   ]
  },
  {
   "cell_type": "code",
   "execution_count": 60,
   "id": "e5721ca1",
   "metadata": {
    "scrolled": true
   },
   "outputs": [
    {
     "data": {
      "text/html": [
       "<div>\n",
       "<style scoped>\n",
       "    .dataframe tbody tr th:only-of-type {\n",
       "        vertical-align: middle;\n",
       "    }\n",
       "\n",
       "    .dataframe tbody tr th {\n",
       "        vertical-align: top;\n",
       "    }\n",
       "\n",
       "    .dataframe thead th {\n",
       "        text-align: right;\n",
       "    }\n",
       "</style>\n",
       "<table border=\"1\" class=\"dataframe\">\n",
       "  <thead>\n",
       "    <tr style=\"text-align: right;\">\n",
       "      <th></th>\n",
       "      <th>year</th>\n",
       "      <th>total_revenue</th>\n",
       "    </tr>\n",
       "  </thead>\n",
       "  <tbody>\n",
       "    <tr>\n",
       "      <th>0</th>\n",
       "      <td>2017</td>\n",
       "      <td>93569152.0</td>\n",
       "    </tr>\n",
       "    <tr>\n",
       "      <th>1</th>\n",
       "      <td>2018</td>\n",
       "      <td>414308941.0</td>\n",
       "    </tr>\n",
       "    <tr>\n",
       "      <th>2</th>\n",
       "      <td>2019</td>\n",
       "      <td>336452114.0</td>\n",
       "    </tr>\n",
       "    <tr>\n",
       "      <th>3</th>\n",
       "      <td>2020</td>\n",
       "      <td>142235559.0</td>\n",
       "    </tr>\n",
       "  </tbody>\n",
       "</table>\n",
       "</div>"
      ],
      "text/plain": [
       "   year  total_revenue\n",
       "0  2017     93569152.0\n",
       "1  2018    414308941.0\n",
       "2  2019    336452114.0\n",
       "3  2020    142235559.0"
      ]
     },
     "execution_count": 60,
     "metadata": {},
     "output_type": "execute_result"
    }
   ],
   "source": [
    "df3"
   ]
  },
  {
   "cell_type": "markdown",
   "id": "68a19de8",
   "metadata": {},
   "source": [
    "The revenue for the year 2018 has been the highest compared to all the other years. We can also note that there has been a steep decline in the revenue through the years 2018 to 2020."
   ]
  },
  {
   "cell_type": "markdown",
   "id": "89bb392c",
   "metadata": {},
   "source": [
    "#### 4. Which month has shown the highest Sales order Volume?"
   ]
  },
  {
   "cell_type": "code",
   "execution_count": 84,
   "id": "cabb589d",
   "metadata": {},
   "outputs": [],
   "source": [
    "query3 = \"\"\"\n",
    "\n",
    "SELECT d.month_name AS MonthName, COUNT(sales_amount) AS OrderSize\n",
    "FROM sales.transactions as t\n",
    "INNER JOIN sales.date as d\n",
    "ON t.order_date = d.date\n",
    "GROUP BY d.month_name\n",
    "ORDER BY OrderSize DESC\n",
    "       \n",
    "       \n",
    "\"\"\""
   ]
  },
  {
   "cell_type": "code",
   "execution_count": 85,
   "id": "92301ad5",
   "metadata": {},
   "outputs": [
    {
     "name": "stderr",
     "output_type": "stream",
     "text": [
      "C:\\Users\\LENOVO\\anaconda3\\lib\\site-packages\\pandas\\io\\sql.py:761: UserWarning: pandas only support SQLAlchemy connectable(engine/connection) ordatabase string URI or sqlite3 DBAPI2 connectionother DBAPI2 objects are not tested, please consider using SQLAlchemy\n",
      "  warnings.warn(\n"
     ]
    }
   ],
   "source": [
    "df4 = pd.read_sql_query(query3, conn)"
   ]
  },
  {
   "cell_type": "code",
   "execution_count": 86,
   "id": "dceef189",
   "metadata": {},
   "outputs": [
    {
     "data": {
      "text/html": [
       "<div>\n",
       "<style scoped>\n",
       "    .dataframe tbody tr th:only-of-type {\n",
       "        vertical-align: middle;\n",
       "    }\n",
       "\n",
       "    .dataframe tbody tr th {\n",
       "        vertical-align: top;\n",
       "    }\n",
       "\n",
       "    .dataframe thead th {\n",
       "        text-align: right;\n",
       "    }\n",
       "</style>\n",
       "<table border=\"1\" class=\"dataframe\">\n",
       "  <thead>\n",
       "    <tr style=\"text-align: right;\">\n",
       "      <th></th>\n",
       "      <th>MonthName</th>\n",
       "      <th>OrderSize</th>\n",
       "    </tr>\n",
       "  </thead>\n",
       "  <tbody>\n",
       "    <tr>\n",
       "      <th>0</th>\n",
       "      <td>November</td>\n",
       "      <td>14351</td>\n",
       "    </tr>\n",
       "    <tr>\n",
       "      <th>1</th>\n",
       "      <td>January</td>\n",
       "      <td>14014</td>\n",
       "    </tr>\n",
       "    <tr>\n",
       "      <th>2</th>\n",
       "      <td>October</td>\n",
       "      <td>13763</td>\n",
       "    </tr>\n",
       "    <tr>\n",
       "      <th>3</th>\n",
       "      <td>February</td>\n",
       "      <td>13685</td>\n",
       "    </tr>\n",
       "    <tr>\n",
       "      <th>4</th>\n",
       "      <td>May</td>\n",
       "      <td>13584</td>\n",
       "    </tr>\n",
       "    <tr>\n",
       "      <th>5</th>\n",
       "      <td>March</td>\n",
       "      <td>13485</td>\n",
       "    </tr>\n",
       "    <tr>\n",
       "      <th>6</th>\n",
       "      <td>April</td>\n",
       "      <td>13188</td>\n",
       "    </tr>\n",
       "    <tr>\n",
       "      <th>7</th>\n",
       "      <td>December</td>\n",
       "      <td>12699</td>\n",
       "    </tr>\n",
       "    <tr>\n",
       "      <th>8</th>\n",
       "      <td>June</td>\n",
       "      <td>12666</td>\n",
       "    </tr>\n",
       "    <tr>\n",
       "      <th>9</th>\n",
       "      <td>July</td>\n",
       "      <td>10363</td>\n",
       "    </tr>\n",
       "    <tr>\n",
       "      <th>10</th>\n",
       "      <td>August</td>\n",
       "      <td>9470</td>\n",
       "    </tr>\n",
       "    <tr>\n",
       "      <th>11</th>\n",
       "      <td>September</td>\n",
       "      <td>9015</td>\n",
       "    </tr>\n",
       "  </tbody>\n",
       "</table>\n",
       "</div>"
      ],
      "text/plain": [
       "    MonthName  OrderSize\n",
       "0    November      14351\n",
       "1     January      14014\n",
       "2     October      13763\n",
       "3    February      13685\n",
       "4         May      13584\n",
       "5       March      13485\n",
       "6       April      13188\n",
       "7    December      12699\n",
       "8        June      12666\n",
       "9        July      10363\n",
       "10     August       9470\n",
       "11  September       9015"
      ]
     },
     "execution_count": 86,
     "metadata": {},
     "output_type": "execute_result"
    }
   ],
   "source": [
    "df4"
   ]
  },
  {
   "cell_type": "markdown",
   "id": "e62cd576",
   "metadata": {},
   "source": [
    "An increase in the order placed occured in the month of November and January followed by October."
   ]
  },
  {
   "cell_type": "markdown",
   "id": "26b58540",
   "metadata": {},
   "source": [
    "#### 5. Which zone has grossed the highest revenue for the company?"
   ]
  },
  {
   "cell_type": "code",
   "execution_count": 79,
   "id": "595cf4e0",
   "metadata": {},
   "outputs": [],
   "source": [
    "query4 = \"\"\"\n",
    "\n",
    "SELECT zone AS Zone, SUM(sales_qty) as OrderVolume\n",
    "FROM sales.transactions as t\n",
    "INNER JOIN sales.markets as m\n",
    "ON t.market_code = m.markets_code\n",
    "GROUP BY zone\n",
    "ORDER BY OrderVolume DESC\n",
    "       \n",
    "       \n",
    "\"\"\""
   ]
  },
  {
   "cell_type": "code",
   "execution_count": 80,
   "id": "44c1d275",
   "metadata": {},
   "outputs": [
    {
     "name": "stderr",
     "output_type": "stream",
     "text": [
      "C:\\Users\\LENOVO\\anaconda3\\lib\\site-packages\\pandas\\io\\sql.py:761: UserWarning: pandas only support SQLAlchemy connectable(engine/connection) ordatabase string URI or sqlite3 DBAPI2 connectionother DBAPI2 objects are not tested, please consider using SQLAlchemy\n",
      "  warnings.warn(\n"
     ]
    }
   ],
   "source": [
    "df5 = pd.read_sql_query(query4, conn)"
   ]
  },
  {
   "cell_type": "code",
   "execution_count": 81,
   "id": "a0ee0c91",
   "metadata": {},
   "outputs": [
    {
     "data": {
      "text/html": [
       "<div>\n",
       "<style scoped>\n",
       "    .dataframe tbody tr th:only-of-type {\n",
       "        vertical-align: middle;\n",
       "    }\n",
       "\n",
       "    .dataframe tbody tr th {\n",
       "        vertical-align: top;\n",
       "    }\n",
       "\n",
       "    .dataframe thead th {\n",
       "        text-align: right;\n",
       "    }\n",
       "</style>\n",
       "<table border=\"1\" class=\"dataframe\">\n",
       "  <thead>\n",
       "    <tr style=\"text-align: right;\">\n",
       "      <th></th>\n",
       "      <th>Zone</th>\n",
       "      <th>OrderVolume</th>\n",
       "    </tr>\n",
       "  </thead>\n",
       "  <tbody>\n",
       "    <tr>\n",
       "      <th>0</th>\n",
       "      <td>North</td>\n",
       "      <td>1276395.0</td>\n",
       "    </tr>\n",
       "    <tr>\n",
       "      <th>1</th>\n",
       "      <td>Central</td>\n",
       "      <td>764519.0</td>\n",
       "    </tr>\n",
       "    <tr>\n",
       "      <th>2</th>\n",
       "      <td>South</td>\n",
       "      <td>403501.0</td>\n",
       "    </tr>\n",
       "  </tbody>\n",
       "</table>\n",
       "</div>"
      ],
      "text/plain": [
       "      Zone  OrderVolume\n",
       "0    North    1276395.0\n",
       "1  Central     764519.0\n",
       "2    South     403501.0"
      ]
     },
     "execution_count": 81,
     "metadata": {},
     "output_type": "execute_result"
    }
   ],
   "source": [
    "df5"
   ]
  },
  {
   "cell_type": "markdown",
   "id": "4fc22461",
   "metadata": {},
   "source": [
    "North Zone has generated the highest revenue followed by the Central and South Zone respectively."
   ]
  },
  {
   "cell_type": "markdown",
   "id": "1d1643c1",
   "metadata": {},
   "source": [
    "#### 6. Which individual markets in the North had the highest Sales Order Volume?"
   ]
  },
  {
   "cell_type": "code",
   "execution_count": 78,
   "id": "b77f99b0",
   "metadata": {},
   "outputs": [],
   "source": [
    "query5 = \"\"\"\n",
    "\n",
    "SELECT zone, markets_name AS MarketName, SUM(sales_qty) as SalesQty\n",
    "FROM sales.transactions as t\n",
    "INNER JOIN sales.markets as m\n",
    "ON t.market_code = m.markets_code\n",
    "WHERE zone = 'North'\n",
    "GROUP BY zone, markets_name\n",
    "ORDER BY SalesQty DESC\n",
    "       \n",
    "       \n",
    "\"\"\""
   ]
  },
  {
   "cell_type": "code",
   "execution_count": 82,
   "id": "b89a2287",
   "metadata": {},
   "outputs": [
    {
     "name": "stderr",
     "output_type": "stream",
     "text": [
      "C:\\Users\\LENOVO\\anaconda3\\lib\\site-packages\\pandas\\io\\sql.py:761: UserWarning: pandas only support SQLAlchemy connectable(engine/connection) ordatabase string URI or sqlite3 DBAPI2 connectionother DBAPI2 objects are not tested, please consider using SQLAlchemy\n",
      "  warnings.warn(\n"
     ]
    }
   ],
   "source": [
    "df6 = pd.read_sql_query(query5, conn)"
   ]
  },
  {
   "cell_type": "code",
   "execution_count": 83,
   "id": "829727ba",
   "metadata": {
    "scrolled": true
   },
   "outputs": [
    {
     "data": {
      "text/html": [
       "<div>\n",
       "<style scoped>\n",
       "    .dataframe tbody tr th:only-of-type {\n",
       "        vertical-align: middle;\n",
       "    }\n",
       "\n",
       "    .dataframe tbody tr th {\n",
       "        vertical-align: top;\n",
       "    }\n",
       "\n",
       "    .dataframe thead th {\n",
       "        text-align: right;\n",
       "    }\n",
       "</style>\n",
       "<table border=\"1\" class=\"dataframe\">\n",
       "  <thead>\n",
       "    <tr style=\"text-align: right;\">\n",
       "      <th></th>\n",
       "      <th>zone</th>\n",
       "      <th>MarketName</th>\n",
       "      <th>SalesQty</th>\n",
       "    </tr>\n",
       "  </thead>\n",
       "  <tbody>\n",
       "    <tr>\n",
       "      <th>0</th>\n",
       "      <td>North</td>\n",
       "      <td>Delhi NCR</td>\n",
       "      <td>992338.0</td>\n",
       "    </tr>\n",
       "    <tr>\n",
       "      <th>1</th>\n",
       "      <td>North</td>\n",
       "      <td>Ahmedabad</td>\n",
       "      <td>207575.0</td>\n",
       "    </tr>\n",
       "    <tr>\n",
       "      <th>2</th>\n",
       "      <td>North</td>\n",
       "      <td>Lucknow</td>\n",
       "      <td>37092.0</td>\n",
       "    </tr>\n",
       "    <tr>\n",
       "      <th>3</th>\n",
       "      <td>North</td>\n",
       "      <td>Surat</td>\n",
       "      <td>17200.0</td>\n",
       "    </tr>\n",
       "    <tr>\n",
       "      <th>4</th>\n",
       "      <td>North</td>\n",
       "      <td>Kanpur</td>\n",
       "      <td>16677.0</td>\n",
       "    </tr>\n",
       "    <tr>\n",
       "      <th>5</th>\n",
       "      <td>North</td>\n",
       "      <td>Patna</td>\n",
       "      <td>5513.0</td>\n",
       "    </tr>\n",
       "  </tbody>\n",
       "</table>\n",
       "</div>"
      ],
      "text/plain": [
       "    zone MarketName  SalesQty\n",
       "0  North  Delhi NCR  992338.0\n",
       "1  North  Ahmedabad  207575.0\n",
       "2  North    Lucknow   37092.0\n",
       "3  North      Surat   17200.0\n",
       "4  North     Kanpur   16677.0\n",
       "5  North      Patna    5513.0"
      ]
     },
     "execution_count": 83,
     "metadata": {},
     "output_type": "execute_result"
    }
   ],
   "source": [
    "df6"
   ]
  },
  {
   "cell_type": "markdown",
   "id": "be30bc63",
   "metadata": {},
   "source": [
    "Delhi NCR has the generated the highest Order size as compared to the markets in other North region such as Surat, Kanpur, Patna etc."
   ]
  },
  {
   "cell_type": "markdown",
   "id": "766808f1",
   "metadata": {},
   "source": [
    "#### 7. Minimum and Maximum Order Size for Sales Revenue greater than Rs 10k"
   ]
  },
  {
   "cell_type": "code",
   "execution_count": 75,
   "id": "42769df5",
   "metadata": {},
   "outputs": [],
   "source": [
    "query6 = \"\"\"\n",
    "\n",
    "SELECT MAX(sales_qty) AS MaxOrderSize, MIN(sales_qty) AS MinOrderSize\n",
    "FROM sales.transactions as t\n",
    "WHERE sales_qty > 0 and sales_amount > 10000\n",
    "       \n",
    "       \n",
    "\"\"\""
   ]
  },
  {
   "cell_type": "code",
   "execution_count": 76,
   "id": "d29db824",
   "metadata": {},
   "outputs": [
    {
     "name": "stderr",
     "output_type": "stream",
     "text": [
      "C:\\Users\\LENOVO\\anaconda3\\lib\\site-packages\\pandas\\io\\sql.py:761: UserWarning: pandas only support SQLAlchemy connectable(engine/connection) ordatabase string URI or sqlite3 DBAPI2 connectionother DBAPI2 objects are not tested, please consider using SQLAlchemy\n",
      "  warnings.warn(\n"
     ]
    }
   ],
   "source": [
    "df6 = pd.read_sql_query(query6, conn)"
   ]
  },
  {
   "cell_type": "code",
   "execution_count": 77,
   "id": "4acc74ad",
   "metadata": {},
   "outputs": [
    {
     "data": {
      "text/html": [
       "<div>\n",
       "<style scoped>\n",
       "    .dataframe tbody tr th:only-of-type {\n",
       "        vertical-align: middle;\n",
       "    }\n",
       "\n",
       "    .dataframe tbody tr th {\n",
       "        vertical-align: top;\n",
       "    }\n",
       "\n",
       "    .dataframe thead th {\n",
       "        text-align: right;\n",
       "    }\n",
       "</style>\n",
       "<table border=\"1\" class=\"dataframe\">\n",
       "  <thead>\n",
       "    <tr style=\"text-align: right;\">\n",
       "      <th></th>\n",
       "      <th>MaxOrderSize</th>\n",
       "      <th>MinOrderSize</th>\n",
       "    </tr>\n",
       "  </thead>\n",
       "  <tbody>\n",
       "    <tr>\n",
       "      <th>0</th>\n",
       "      <td>14049</td>\n",
       "      <td>3</td>\n",
       "    </tr>\n",
       "  </tbody>\n",
       "</table>\n",
       "</div>"
      ],
      "text/plain": [
       "   MaxOrderSize  MinOrderSize\n",
       "0         14049             3"
      ]
     },
     "execution_count": 77,
     "metadata": {},
     "output_type": "execute_result"
    }
   ],
   "source": [
    "df6"
   ]
  },
  {
   "cell_type": "markdown",
   "id": "1af440ab",
   "metadata": {},
   "source": [
    "The maximum order size for a customer is 14049 while the minimum order size is 3."
   ]
  },
  {
   "cell_type": "code",
   "execution_count": null,
   "id": "6424a373",
   "metadata": {},
   "outputs": [],
   "source": []
  }
 ],
 "metadata": {
  "kernelspec": {
   "display_name": "Python 3 (ipykernel)",
   "language": "python",
   "name": "python3"
  },
  "language_info": {
   "codemirror_mode": {
    "name": "ipython",
    "version": 3
   },
   "file_extension": ".py",
   "mimetype": "text/x-python",
   "name": "python",
   "nbconvert_exporter": "python",
   "pygments_lexer": "ipython3",
   "version": "3.9.12"
  }
 },
 "nbformat": 4,
 "nbformat_minor": 5
}
